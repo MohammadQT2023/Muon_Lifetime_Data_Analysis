{
 "cells": [
  {
   "cell_type": "code",
   "execution_count": 1,
   "id": "cced36d1",
   "metadata": {},
   "outputs": [
    {
     "name": "stdout",
     "output_type": "stream",
     "text": [
      "finished importing libraries\n"
     ]
    }
   ],
   "source": [
    "import numpy as np\n",
    "import matplotlib.pyplot as plt\n",
    "import random\n",
    "import csv\n",
    "import pandas\n",
    "from scipy.signal import find_peaks\n",
    "from scipy.optimize import curve_fit\n",
    "\n",
    "from iminuit import Minuit\n",
    "from iminuit.cost import LeastSquares\n",
    "\n",
    "print(\"finished importing libraries\")"
   ]
  },
  {
   "cell_type": "code",
   "execution_count": 2,
   "id": "78e14d90",
   "metadata": {},
   "outputs": [
    {
     "name": "stdout",
     "output_type": "stream",
     "text": [
      "                       LECROYWS3034z               45662  Waveform\n",
      "Segments                           1         SegmentSize   10002.0\n",
      "Segment                     TrigTime   TimeSinceSegment1       NaN\n",
      "#1              27-Mar-2022 01:41:02  0                        NaN\n",
      "Time                            Ampl                 NaN       NaN\n",
      "-5.000739e-006             -0.993333                 NaN       NaN\n",
      "...                              ...                 ...       ...\n",
      "4.996261e-006              -0.993333                 NaN       NaN\n",
      "4.997261e-006              -0.993333                 NaN       NaN\n",
      "4.998261e-006              -0.993333                 NaN       NaN\n",
      "4.999261e-006              -0.993333                 NaN       NaN\n",
      "5.000261e-006              -0.993333                 NaN       NaN\n",
      "\n",
      "[10006 rows x 3 columns]\n"
     ]
    }
   ],
   "source": [
    "df = pandas.read_csv('~/Desktop/Python_files/lab_data_1/data1_1.csv')\n",
    "print(df)"
   ]
  },
  {
   "cell_type": "code",
   "execution_count": 3,
   "id": "2f36cc44-71a7-45c1-9125-8a0678ec12df",
   "metadata": {},
   "outputs": [
    {
     "data": {
      "text/plain": [
       "Index(['LECROYWS3034z', '45662', 'Waveform'], dtype='object')"
      ]
     },
     "execution_count": 3,
     "metadata": {},
     "output_type": "execute_result"
    }
   ],
   "source": [
    "df.columns"
   ]
  },
  {
   "cell_type": "code",
   "execution_count": 4,
   "id": "7ff94047-10d2-4359-ac70-fd5f9a95cf39",
   "metadata": {},
   "outputs": [
    {
     "data": {
      "text/html": [
       "<div>\n",
       "<style scoped>\n",
       "    .dataframe tbody tr th:only-of-type {\n",
       "        vertical-align: middle;\n",
       "    }\n",
       "\n",
       "    .dataframe tbody tr th {\n",
       "        vertical-align: top;\n",
       "    }\n",
       "\n",
       "    .dataframe thead th {\n",
       "        text-align: right;\n",
       "    }\n",
       "</style>\n",
       "<table border=\"1\" class=\"dataframe\">\n",
       "  <thead>\n",
       "    <tr style=\"text-align: right;\">\n",
       "      <th></th>\n",
       "      <th>LECROYWS3034z</th>\n",
       "      <th>45662</th>\n",
       "      <th>Waveform</th>\n",
       "    </tr>\n",
       "  </thead>\n",
       "  <tbody>\n",
       "    <tr>\n",
       "      <th>Segments</th>\n",
       "      <td>1</td>\n",
       "      <td>SegmentSize</td>\n",
       "      <td>10002.0</td>\n",
       "    </tr>\n",
       "    <tr>\n",
       "      <th>Segment</th>\n",
       "      <td>TrigTime</td>\n",
       "      <td>TimeSinceSegment1</td>\n",
       "      <td>NaN</td>\n",
       "    </tr>\n",
       "    <tr>\n",
       "      <th>#1</th>\n",
       "      <td>27-Mar-2022 01:41:02</td>\n",
       "      <td>0</td>\n",
       "      <td>NaN</td>\n",
       "    </tr>\n",
       "    <tr>\n",
       "      <th>Time</th>\n",
       "      <td>Ampl</td>\n",
       "      <td>NaN</td>\n",
       "      <td>NaN</td>\n",
       "    </tr>\n",
       "    <tr>\n",
       "      <th>-5.000739e-006</th>\n",
       "      <td>-0.993333</td>\n",
       "      <td>NaN</td>\n",
       "      <td>NaN</td>\n",
       "    </tr>\n",
       "    <tr>\n",
       "      <th>...</th>\n",
       "      <td>...</td>\n",
       "      <td>...</td>\n",
       "      <td>...</td>\n",
       "    </tr>\n",
       "    <tr>\n",
       "      <th>4.996261e-006</th>\n",
       "      <td>-0.993333</td>\n",
       "      <td>NaN</td>\n",
       "      <td>NaN</td>\n",
       "    </tr>\n",
       "    <tr>\n",
       "      <th>4.997261e-006</th>\n",
       "      <td>-0.993333</td>\n",
       "      <td>NaN</td>\n",
       "      <td>NaN</td>\n",
       "    </tr>\n",
       "    <tr>\n",
       "      <th>4.998261e-006</th>\n",
       "      <td>-0.993333</td>\n",
       "      <td>NaN</td>\n",
       "      <td>NaN</td>\n",
       "    </tr>\n",
       "    <tr>\n",
       "      <th>4.999261e-006</th>\n",
       "      <td>-0.993333</td>\n",
       "      <td>NaN</td>\n",
       "      <td>NaN</td>\n",
       "    </tr>\n",
       "    <tr>\n",
       "      <th>5.000261e-006</th>\n",
       "      <td>-0.993333</td>\n",
       "      <td>NaN</td>\n",
       "      <td>NaN</td>\n",
       "    </tr>\n",
       "  </tbody>\n",
       "</table>\n",
       "<p>10006 rows × 3 columns</p>\n",
       "</div>"
      ],
      "text/plain": [
       "                       LECROYWS3034z               45662  Waveform\n",
       "Segments                           1         SegmentSize   10002.0\n",
       "Segment                     TrigTime   TimeSinceSegment1       NaN\n",
       "#1              27-Mar-2022 01:41:02  0                        NaN\n",
       "Time                            Ampl                 NaN       NaN\n",
       "-5.000739e-006             -0.993333                 NaN       NaN\n",
       "...                              ...                 ...       ...\n",
       "4.996261e-006              -0.993333                 NaN       NaN\n",
       "4.997261e-006              -0.993333                 NaN       NaN\n",
       "4.998261e-006              -0.993333                 NaN       NaN\n",
       "4.999261e-006              -0.993333                 NaN       NaN\n",
       "5.000261e-006              -0.993333                 NaN       NaN\n",
       "\n",
       "[10006 rows x 3 columns]"
      ]
     },
     "execution_count": 4,
     "metadata": {},
     "output_type": "execute_result"
    }
   ],
   "source": [
    "df"
   ]
  },
  {
   "cell_type": "code",
   "execution_count": 5,
   "id": "0c147d9c-dab8-4334-8110-d41d2d1ff5a0",
   "metadata": {},
   "outputs": [
    {
     "data": {
      "text/plain": [
       "Segments                             1\n",
       "Segment                       TrigTime\n",
       "#1                27-Mar-2022 01:41:02\n",
       "Time                              Ampl\n",
       "-5.000739e-006               -0.993333\n",
       "                          ...         \n",
       "4.996261e-006                -0.993333\n",
       "4.997261e-006                -0.993333\n",
       "4.998261e-006                -0.993333\n",
       "4.999261e-006                -0.993333\n",
       "5.000261e-006                -0.993333\n",
       "Name: LECROYWS3034z, Length: 10006, dtype: object"
      ]
     },
     "execution_count": 5,
     "metadata": {},
     "output_type": "execute_result"
    }
   ],
   "source": [
    "df.LECROYWS3034z"
   ]
  },
  {
   "cell_type": "code",
   "execution_count": 6,
   "id": "afec7c2e-4574-4b55-969d-838fda266c5f",
   "metadata": {},
   "outputs": [],
   "source": [
    "amp = np.array(df.LECROYWS3034z.values[4:], dtype=np.float64)\n",
    "time = np.array(df.LECROYWS3034z.axes[0][4:], dtype=np.float64)"
   ]
  },
  {
   "cell_type": "code",
   "execution_count": 7,
   "id": "95a7d128-e17e-4768-b30a-b3d05d5184df",
   "metadata": {},
   "outputs": [
    {
     "name": "stdout",
     "output_type": "stream",
     "text": [
      "(array([4203, 5010, 5014]), {'peak_heights': array([-0.0333333, -0.04     , -0.0333333])})\n"
     ]
    }
   ],
   "source": [
    "print(find_peaks(amp, height=(-.6,0)))"
   ]
  },
  {
   "cell_type": "code",
   "execution_count": 8,
   "id": "7f394843-be39-4ec5-b5a5-f150ff77afc4",
   "metadata": {},
   "outputs": [
    {
     "data": {
      "image/png": "[encoded data removed]",
      "text/plain": [
       "<Figure size 432x288 with 1 Axes>"
      ]
     },
     "metadata": {
      "needs_background": "light"
     },
     "output_type": "display_data"
    }
   ],
   "source": [
    "plt.scatter(time, amp)\n",
    "# plt.xlim(-0.25, 0.25)\n",
    "# plt.ylim(-1.2,0.2)\n",
    "\n",
    "border = .2\n",
    "index, _ = find_peaks(amp, height=(-.6,0))\n",
    "# plt.plot(index, amp[index], \"x\")\n",
    "for x in range(2):\n",
    "    plt.axvline(time[index[x]], color='red')\n",
    "\n",
    "plt.show()"
   ]
  },
  {
   "cell_type": "code",
   "execution_count": null,
   "id": "f821b9e9-8922-43ce-ab87-1972452e32e5",
   "metadata": {},
   "outputs": [],
   "source": []
  },
  {
   "cell_type": "code",
   "execution_count": 9,
   "id": "8eab448c-8043-435a-8d35-fb701bc9fccc",
   "metadata": {},
   "outputs": [
    {
     "name": "stdout",
     "output_type": "stream",
     "text": [
      "2.677470342857142e-06\n"
     ]
    }
   ],
   "source": [
    "total_t = 0\n",
    "for x in range(1,36):\n",
    "    df_x = pandas.read_csv(f'~/Desktop/Python_files/lab_data_1/data1_{x}.csv')\n",
    "    amp_x = np.array(df_x.LECROYWS3034z.values[4:], dtype=np.float64)\n",
    "    time_x = np.array(df_x.LECROYWS3034z.axes[0][4:], dtype=np.float64)\n",
    "    index_x, _ = find_peaks(amp_x, height=(-.6,0))\n",
    "    \n",
    "    tau_x = time_x[index_x[1]] - time_x[index_x[0]]\n",
    "    total_t += tau_x\n",
    "    \n",
    "tau = (total_t/35)\n",
    "k_factor = 0.974\n",
    "tau = tau*k_factor\n",
    "\n",
    "print(tau)"
   ]
  },
  {
   "cell_type": "code",
   "execution_count": 10,
   "id": "7c275778-204e-41aa-8641-6ebd689f4afe",
   "metadata": {},
   "outputs": [
    {
     "name": "stdout",
     "output_type": "stream",
     "text": [
      "2.2574689910979236e-06\n"
     ]
    }
   ],
   "source": [
    "total_t = 0\n",
    "tau_list = []\n",
    "\n",
    "\n",
    "for x in range(1,36):\n",
    "    df_x = pandas.read_csv(f'~/Desktop/Python_files/lab_data_1/data1_{x}.csv')\n",
    "    amp_x = np.array(df_x.LECROYWS3034z.values[4:], dtype=np.float64)\n",
    "    time_x = np.array(df_x.LECROYWS3034z.axes[0][4:], dtype=np.float64)\n",
    "    index_x, _ = find_peaks(amp_x, height=(-.6,0))\n",
    "    \n",
    "    tau_x = time_x[index_x[1]] - time_x[index_x[0]]\n",
    "    total_t += tau_x\n",
    "    # total_t += (tau_x*k_factor)\n",
    "    tau_list.append(tau_x)\n",
    "    \n",
    "for x in range(0,10):\n",
    "    df_x = pandas.read_csv(f'~/Desktop/Python_files/lab_data_2/C1new_week0000{x}.csv')\n",
    "    amp_x = np.array(df_x.LECROYWS3034z.values[4:], dtype=np.float64)\n",
    "    time_x = np.array(df_x.LECROYWS3034z.axes[0][4:], dtype=np.float64)\n",
    "    index_x, _ = find_peaks(amp_x, height=(-.6,0))\n",
    "    \n",
    "    tau_x = time_x[index_x[1]] - time_x[index_x[0]]\n",
    "    total_t += tau_x\n",
    "    # total_t += (tau_x*k_factor)\n",
    "    tau_list.append(tau_x)\n",
    "    \n",
    "for x in range(10,100):\n",
    "    df_x = pandas.read_csv(f'~/Desktop/Python_files/lab_data_2/C1new_week000{x}.csv')\n",
    "    amp_x = np.array(df_x.LECROYWS3034z.values[4:], dtype=np.float64)\n",
    "    time_x = np.array(df_x.LECROYWS3034z.axes[0][4:], dtype=np.float64)\n",
    "    index_x, _ = find_peaks(amp_x, height=(-.6,0))\n",
    "    \n",
    "    tau_x = time_x[index_x[1]] - time_x[index_x[0]]\n",
    "    total_t += tau_x\n",
    "    # total_t += (tau_x*k_factor)\n",
    "    tau_list.append(tau_x)\n",
    "    \n",
    "for x in range(100,976):\n",
    "    df_x = pandas.read_csv(f'~/Desktop/Python_files/lab_data_2/C1new_week00{x}.csv')\n",
    "    amp_x = np.array(df_x.LECROYWS3034z.values[4:], dtype=np.float64)\n",
    "    time_x = np.array(df_x.LECROYWS3034z.axes[0][4:], dtype=np.float64)\n",
    "    index_x, _ = find_peaks(amp_x, height=(-.6,0))\n",
    "    \n",
    "    tau_x = time_x[index_x[1]] - time_x[index_x[0]]\n",
    "    total_t += tau_x\n",
    "    # total_t += (tau_x*k_factor)\n",
    "    tau_list.append(tau_x)\n",
    "\n",
    "\n",
    "tau = (total_t/(975+36))\n",
    "\n",
    "print(tau*k_factor)\n",
    "# print(tau_list)\n",
    "#calculate uncertainty (std. dev)"
   ]
  },
  {
   "cell_type": "code",
   "execution_count": 24,
   "id": "d39b5b04-612a-4bed-a48f-3be2312ee690",
   "metadata": {},
   "outputs": [
    {
     "data": {
      "image/png": "[encoded data removed]",
      "text/plain": [
       "<Figure size 432x288 with 1 Axes>"
      ]
     },
     "metadata": {
      "needs_background": "light"
     },
     "output_type": "display_data"
    },
    {
     "name": "stdout",
     "output_type": "stream",
     "text": [
      "[4.48295240e+01 1.98380134e-06 9.29870062e-01]\n",
      "[40 33 37 38 31 34 30 24 26 29 26 19 16 26 22 21 24 23 21 16 17 17 14 21\n",
      " 22 10 12 12 15 20 12  8  8  9  6  6 13  3  7  5  3  8  8  4  5  6  6  5\n",
      "  6  8  4  5  3  3  4  4  4  5  1  5  3  3  4  2  1  1  3  2  3  2  3  1\n",
      "  2  4  1  5  1  3  4  2  1  1  1  5  3  2  3  2  2]\n"
     ]
    }
   ],
   "source": [
    "def exp_fit(x,a,b,c):\n",
    "    y=a*np.exp(-x/b)+c\n",
    "    return y\n",
    "\n",
    "hist, bins = np.histogram(tau_list, bins=100)\n",
    "center = (bins[:-1] + bins[1:]) / 2\n",
    "# print(center)\n",
    "center = center[2:]\n",
    "hist = hist[2:]\n",
    "mask = hist!=0\n",
    "hist = hist[mask]\n",
    "center = center[mask]\n",
    "fit_ = curve_fit(exp_fit,center,hist, p0=[40,2.3e-6,0], sigma=np.sqrt(hist))\n",
    "fit_eq = fit_[0][0]*np.exp(-center/fit_[0][1])+fit_[0][2]\n",
    "\n",
    "fig = plt.figure()\n",
    "ax = fig.subplots()\n",
    "\n",
    "# ax.hist(tau_list,bins=50)\n",
    "plt.scatter(center,hist)\n",
    "# plt.bar(x,hist, alpha = 0.5, align = 'edge', width = 1)\n",
    "plt.plot(center,fit_eq, color = 'red')\n",
    "plt.errorbar(center,hist,yerr=np.sqrt(hist),label=\"data\")\n",
    "plt.show()\n",
    "\n",
    "print(fit_[0])"
   ]
  },
  {
   "cell_type": "code",
   "execution_count": 12,
   "id": "84e1e06d-7105-4aaf-bf2b-d07d4f575528",
   "metadata": {},
   "outputs": [
    {
     "data": {
      "image/png": "[encoded data removed]",
      "text/plain": [
       "<Figure size 432x288 with 1 Axes>"
      ]
     },
     "metadata": {
      "needs_background": "light"
     },
     "output_type": "display_data"
    }
   ],
   "source": [
    "plt.hist(tau_list,bins=50, log=1)\n",
    "# plt.plot(x_fit,fit_eq, color = 'red')\n",
    "plt.show()"
   ]
  },
  {
   "cell_type": "code",
   "execution_count": 36,
   "id": "82fb959a-0af1-45db-b647-fc8f9f4b467d",
   "metadata": {},
   "outputs": [
    {
     "data": {
      "text/html": [
       "<table>\n",
       "    <tr>\n",
       "        <th colspan=\"5\" style=\"text-align:center\" title=\"Minimizer\"> Migrad </th>\n",
       "    </tr>\n",
       "    <tr>\n",
       "        <td colspan=\"2\" style=\"text-align:left\" title=\"Minimum value of function\"> FCN = 67.81 (chi2/ndof = 0.8) </td>\n",
       "        <td colspan=\"3\" style=\"text-align:center\" title=\"Total number of function and (optional) gradient evaluations\"> Nfcn = 83 </td>\n",
       "    </tr>\n",
       "    <tr>\n",
       "        <td colspan=\"2\" style=\"text-align:left\" title=\"Estimated distance to minimum and goal\"> EDM = 6.48e-07 (Goal: 0.0002) </td>\n",
       "        <td colspan=\"3\" style=\"text-align:center\" title=\"Total run time of algorithms\">  </td>\n",
       "    </tr>\n",
       "    <tr>\n",
       "        <td colspan=\"2\" style=\"text-align:center;background-color:#92CCA6;color:black\"> Valid Minimum </td>\n",
       "        <td colspan=\"3\" style=\"text-align:center;background-color:#92CCA6;color:black\"> No Parameters at limit </td>\n",
       "    </tr>\n",
       "    <tr>\n",
       "        <td colspan=\"2\" style=\"text-align:center;background-color:#92CCA6;color:black\"> Below EDM threshold (goal x 10) </td>\n",
       "        <td colspan=\"3\" style=\"text-align:center;background-color:#92CCA6;color:black\"> Below call limit </td>\n",
       "    </tr>\n",
       "    <tr>\n",
       "        <td style=\"text-align:center;background-color:#92CCA6;color:black\"> Covariance </td>\n",
       "        <td style=\"text-align:center;background-color:#92CCA6;color:black\"> Hesse ok </td>\n",
       "        <td style=\"text-align:center;background-color:#92CCA6;color:black\" title=\"Is covariance matrix accurate?\"> Accurate </td>\n",
       "        <td style=\"text-align:center;background-color:#92CCA6;color:black\" title=\"Is covariance matrix positive definite?\"> Pos. def. </td>\n",
       "        <td style=\"text-align:center;background-color:#92CCA6;color:black\" title=\"Was positive definiteness enforced by Minuit?\"> Not forced </td>\n",
       "    </tr>\n",
       "</table><table>\n",
       "    <tr>\n",
       "        <td></td>\n",
       "        <th title=\"Variable name\"> Name </th>\n",
       "        <th title=\"Value of parameter\"> Value </th>\n",
       "        <th title=\"Hesse error\"> Hesse Error </th>\n",
       "        <th title=\"Minos lower error\"> Minos Error- </th>\n",
       "        <th title=\"Minos upper error\"> Minos Error+ </th>\n",
       "        <th title=\"Lower limit of the parameter\"> Limit- </th>\n",
       "        <th title=\"Upper limit of the parameter\"> Limit+ </th>\n",
       "        <th title=\"Is the parameter fixed in the fit\"> Fixed </th>\n",
       "    </tr>\n",
       "    <tr>\n",
       "        <th> 0 </th>\n",
       "        <td> a </td>\n",
       "        <td> 44.8 </td>\n",
       "        <td> 2.7 </td>\n",
       "        <td>  </td>\n",
       "        <td>  </td>\n",
       "        <td>  </td>\n",
       "        <td>  </td>\n",
       "        <td>  </td>\n",
       "    </tr>\n",
       "    <tr>\n",
       "        <th> 1 </th>\n",
       "        <td> b </td>\n",
       "        <td> 1.98e-6 </td>\n",
       "        <td> 0.14e-6 </td>\n",
       "        <td>  </td>\n",
       "        <td>  </td>\n",
       "        <td>  </td>\n",
       "        <td>  </td>\n",
       "        <td>  </td>\n",
       "    </tr>\n",
       "    <tr>\n",
       "        <th> 2 </th>\n",
       "        <td> c </td>\n",
       "        <td> 0.9 </td>\n",
       "        <td> 0.4 </td>\n",
       "        <td>  </td>\n",
       "        <td>  </td>\n",
       "        <td>  </td>\n",
       "        <td>  </td>\n",
       "        <td>  </td>\n",
       "    </tr>\n",
       "</table><table>\n",
       "    <tr>\n",
       "        <td></td>\n",
       "        <th> a </th>\n",
       "        <th> b </th>\n",
       "        <th> c </th>\n",
       "    </tr>\n",
       "    <tr>\n",
       "        <th> a </th>\n",
       "        <td> 7.38 </td>\n",
       "        <td style=\"background-color:rgb(158,158,250);color:black\"> -2.78e-07 <strong>(-0.705)</strong> </td>\n",
       "        <td style=\"background-color:rgb(250,201,201);color:black\"> 0.336 <strong>(0.326)</strong> </td>\n",
       "    </tr>\n",
       "    <tr>\n",
       "        <th> b </th>\n",
       "        <td style=\"background-color:rgb(158,158,250);color:black\"> -2.78e-07 <strong>(-0.705)</strong> </td>\n",
       "        <td> 2.11e-14 </td>\n",
       "        <td style=\"background-color:rgb(149,149,250);color:black\"> -4.3e-08 <strong>(-0.781)</strong> </td>\n",
       "    </tr>\n",
       "    <tr>\n",
       "        <th> c </th>\n",
       "        <td style=\"background-color:rgb(250,201,201);color:black\"> 0.336 <strong>(0.326)</strong> </td>\n",
       "        <td style=\"background-color:rgb(149,149,250);color:black\"> -4.3e-08 <strong>(-0.781)</strong> </td>\n",
       "        <td> 0.144 </td>\n",
       "    </tr>\n",
       "</table>"
      ],
      "text/plain": [
       "┌─────────────────────────────────────────────────────────────────────────┐\n",
       "│                                Migrad                                   │\n",
       "├──────────────────────────────────┬──────────────────────────────────────┤\n",
       "│ FCN = 67.81 (chi2/ndof = 0.8)    │              Nfcn = 83               │\n",
       "│ EDM = 6.48e-07 (Goal: 0.0002)    │                                      │\n",
       "├──────────────────────────────────┼──────────────────────────────────────┤\n",
       "│          Valid Minimum           │        No Parameters at limit        │\n",
       "├──────────────────────────────────┼──────────────────────────────────────┤\n",
       "│ Below EDM threshold (goal x 10)  │           Below call limit           │\n",
       "├───────────────┬──────────────────┼───────────┬─────────────┬────────────┤\n",
       "│  Covariance   │     Hesse ok     │ Accurate  │  Pos. def.  │ Not forced │\n",
       "└───────────────┴──────────────────┴───────────┴─────────────┴────────────┘\n",
       "┌───┬──────┬───────────┬───────────┬────────────┬────────────┬─────────┬─────────┬───────┐\n",
       "│   │ Name │   Value   │ Hesse Err │ Minos Err- │ Minos Err+ │ Limit-  │ Limit+  │ Fixed │\n",
       "├───┼──────┼───────────┼───────────┼────────────┼────────────┼─────────┼─────────┼───────┤\n",
       "│ 0 │ a    │   44.8    │    2.7    │            │            │         │         │       │\n",
       "│ 1 │ b    │  1.98e-6  │  0.14e-6  │            │            │         │         │       │\n",
       "│ 2 │ c    │    0.9    │    0.4    │            │            │         │         │       │\n",
       "└───┴──────┴───────────┴───────────┴────────────┴────────────┴─────────┴─────────┴───────┘\n",
       "┌───┬───────────────────────────────┐\n",
       "│   │         a         b         c │\n",
       "├───┼───────────────────────────────┤\n",
       "│ a │      7.38 -2.78e-07     0.336 │\n",
       "│ b │ -2.78e-07  2.11e-14  -4.3e-08 │\n",
       "│ c │     0.336  -4.3e-08     0.144 │\n",
       "└───┴───────────────────────────────┘"
      ]
     },
     "metadata": {},
     "output_type": "display_data"
    },
    {
     "name": "stdout",
     "output_type": "stream",
     "text": [
      "ac_rate: 1.0482224346736602\n"
     ]
    },
    {
     "data": {
      "image/png": "[encoded data removed]",
      "text/plain": [
       "<Figure size 432x288 with 1 Axes>"
      ]
     },
     "metadata": {
      "needs_background": "light"
     },
     "output_type": "display_data"
    }
   ],
   "source": [
    "least_squares = LeastSquares(center, hist, np.sqrt(hist), exp_fit)\n",
    "m = Minuit(least_squares, a=40, b=2.3e-6,c=0)  # starting values for a,b,c\n",
    "m.migrad()  # finds minimum of least_squares function\n",
    "m.hesse()   # accurately computes uncertainties\n",
    "display(m)\n",
    "\n",
    "plt.scatter(center,hist)\n",
    "plt.errorbar(center,hist,yerr=np.sqrt(hist),label=\"data\")\n",
    "plt.plot(center, exp_fit(center, *m.values), label=\"fit\")\n",
    "\n",
    "# display legend with some fit info\n",
    "fit_info = [\n",
    "    f\"$\\\\chi^2$ / $n_\\\\mathrm{{dof}}$ = {m.fval:.1f} / {len(center) - m.nfit}\",\n",
    "]\n",
    "\n",
    "for p, v, e in zip(m.parameters, m.values, m.errors):\n",
    "    if p=='b':\n",
    "        v=v*1e6\n",
    "        e=e*1e6\n",
    "        tau_fit=v\n",
    "    fit_info.append(f\"{p} = ${v:.3f} \\\\pm {e:.3f}$\")\n",
    "    \n",
    "\n",
    "plt.legend(title=\"\\n\".join(fit_info))\n",
    "\n",
    "r = (1043/60264)/((11245/59955))\n",
    "ac_rate = (975+36)*r/len(hist)\n",
    "print(\"ac_rate: \" + str(ac_rate))\n",
    "plt.axhline(ac_rate)\n",
    "\n",
    "plt.savefig(\"muon_lifetime.png\")"
   ]
  },
  {
   "cell_type": "code",
   "execution_count": 14,
   "id": "f614738a-9d79-415f-b228-41c311cefaa4",
   "metadata": {},
   "outputs": [
    {
     "data": {
      "text/html": [
       "<table>\n",
       "    <tr>\n",
       "        <th colspan=\"5\" style=\"text-align:center\" title=\"Minimizer\"> Migrad </th>\n",
       "    </tr>\n",
       "    <tr>\n",
       "        <td colspan=\"2\" style=\"text-align:left\" title=\"Minimum value of function\"> FCN = 85.85 (chi2/ndof = 1.0) </td>\n",
       "        <td colspan=\"3\" style=\"text-align:center\" title=\"Total number of function and (optional) gradient evaluations\"> Nfcn = 53 </td>\n",
       "    </tr>\n",
       "    <tr>\n",
       "        <td colspan=\"2\" style=\"text-align:left\" title=\"Estimated distance to minimum and goal\"> EDM = 2.62e-06 (Goal: 0.0002) </td>\n",
       "        <td colspan=\"3\" style=\"text-align:center\" title=\"Total run time of algorithms\">  </td>\n",
       "    </tr>\n",
       "    <tr>\n",
       "        <td colspan=\"2\" style=\"text-align:center;background-color:#92CCA6;color:black\"> Valid Minimum </td>\n",
       "        <td colspan=\"3\" style=\"text-align:center;background-color:#92CCA6;color:black\"> No Parameters at limit </td>\n",
       "    </tr>\n",
       "    <tr>\n",
       "        <td colspan=\"2\" style=\"text-align:center;background-color:#92CCA6;color:black\"> Below EDM threshold (goal x 10) </td>\n",
       "        <td colspan=\"3\" style=\"text-align:center;background-color:#92CCA6;color:black\"> Below call limit </td>\n",
       "    </tr>\n",
       "    <tr>\n",
       "        <td style=\"text-align:center;background-color:#92CCA6;color:black\"> Covariance </td>\n",
       "        <td style=\"text-align:center;background-color:#92CCA6;color:black\"> Hesse ok </td>\n",
       "        <td style=\"text-align:center;background-color:#92CCA6;color:black\" title=\"Is covariance matrix accurate?\"> Accurate </td>\n",
       "        <td style=\"text-align:center;background-color:#92CCA6;color:black\" title=\"Is covariance matrix positive definite?\"> Pos. def. </td>\n",
       "        <td style=\"text-align:center;background-color:#92CCA6;color:black\" title=\"Was positive definiteness enforced by Minuit?\"> Not forced </td>\n",
       "    </tr>\n",
       "</table><table>\n",
       "    <tr>\n",
       "        <td></td>\n",
       "        <th title=\"Variable name\"> Name </th>\n",
       "        <th title=\"Value of parameter\"> Value </th>\n",
       "        <th title=\"Hesse error\"> Hesse Error </th>\n",
       "        <th title=\"Minos lower error\"> Minos Error- </th>\n",
       "        <th title=\"Minos upper error\"> Minos Error+ </th>\n",
       "        <th title=\"Lower limit of the parameter\"> Limit- </th>\n",
       "        <th title=\"Upper limit of the parameter\"> Limit+ </th>\n",
       "        <th title=\"Is the parameter fixed in the fit\"> Fixed </th>\n",
       "    </tr>\n",
       "    <tr>\n",
       "        <th> 0 </th>\n",
       "        <td> a </td>\n",
       "        <td> 40.3 </td>\n",
       "        <td> 2.1 </td>\n",
       "        <td>  </td>\n",
       "        <td>  </td>\n",
       "        <td>  </td>\n",
       "        <td>  </td>\n",
       "        <td>  </td>\n",
       "    </tr>\n",
       "    <tr>\n",
       "        <th> 1 </th>\n",
       "        <td> b </td>\n",
       "        <td> 2.68e-6 </td>\n",
       "        <td> 0.11e-6 </td>\n",
       "        <td>  </td>\n",
       "        <td>  </td>\n",
       "        <td>  </td>\n",
       "        <td>  </td>\n",
       "        <td>  </td>\n",
       "    </tr>\n",
       "</table><table>\n",
       "    <tr>\n",
       "        <td></td>\n",
       "        <th> a </th>\n",
       "        <th> b </th>\n",
       "    </tr>\n",
       "    <tr>\n",
       "        <th> a </th>\n",
       "        <td> 4.61 </td>\n",
       "        <td style=\"background-color:rgb(144,144,250);color:black\"> -1.99e-07 <strong>(-0.819)</strong> </td>\n",
       "    </tr>\n",
       "    <tr>\n",
       "        <th> b </th>\n",
       "        <td style=\"background-color:rgb(144,144,250);color:black\"> -1.99e-07 <strong>(-0.819)</strong> </td>\n",
       "        <td> 1.28e-14 </td>\n",
       "    </tr>\n",
       "</table>"
      ],
      "text/plain": [
       "┌─────────────────────────────────────────────────────────────────────────┐\n",
       "│                                Migrad                                   │\n",
       "├──────────────────────────────────┬──────────────────────────────────────┤\n",
       "│ FCN = 85.85 (chi2/ndof = 1.0)    │              Nfcn = 53               │\n",
       "│ EDM = 2.62e-06 (Goal: 0.0002)    │                                      │\n",
       "├──────────────────────────────────┼──────────────────────────────────────┤\n",
       "│          Valid Minimum           │        No Parameters at limit        │\n",
       "├──────────────────────────────────┼──────────────────────────────────────┤\n",
       "│ Below EDM threshold (goal x 10)  │           Below call limit           │\n",
       "├───────────────┬──────────────────┼───────────┬─────────────┬────────────┤\n",
       "│  Covariance   │     Hesse ok     │ Accurate  │  Pos. def.  │ Not forced │\n",
       "└───────────────┴──────────────────┴───────────┴─────────────┴────────────┘\n",
       "┌───┬──────┬───────────┬───────────┬────────────┬────────────┬─────────┬─────────┬───────┐\n",
       "│   │ Name │   Value   │ Hesse Err │ Minos Err- │ Minos Err+ │ Limit-  │ Limit+  │ Fixed │\n",
       "├───┼──────┼───────────┼───────────┼────────────┼────────────┼─────────┼─────────┼───────┤\n",
       "│ 0 │ a    │   40.3    │    2.1    │            │            │         │         │       │\n",
       "│ 1 │ b    │  2.68e-6  │  0.11e-6  │            │            │         │         │       │\n",
       "└───┴──────┴───────────┴───────────┴────────────┴────────────┴─────────┴─────────┴───────┘\n",
       "┌───┬─────────────────────┐\n",
       "│   │         a         b │\n",
       "├───┼─────────────────────┤\n",
       "│ a │      4.61 -1.99e-07 │\n",
       "│ b │ -1.99e-07  1.28e-14 │\n",
       "└───┴─────────────────────┘"
      ]
     },
     "metadata": {},
     "output_type": "display_data"
    },
    {
     "data": {
      "image/png": "[encoded data removed]",
      "text/plain": [
       "<Figure size 432x288 with 1 Axes>"
      ]
     },
     "metadata": {
      "needs_background": "light"
     },
     "output_type": "display_data"
    }
   ],
   "source": [
    "def exp_fit_mod(x,a,b):\n",
    "    y=a*np.exp(-x/b)-ac_rate\n",
    "    return y\n",
    "\n",
    "least_squares = LeastSquares(center, hist, np.sqrt(hist), exp_fit_mod)\n",
    "m = Minuit(least_squares, a=40, b=2.3e-6)  # starting values for a,b,c\n",
    "m.migrad()  # finds minimum of least_squares function\n",
    "m.hesse()   # accurately computes uncertainties\n",
    "display(m)\n",
    "\n",
    "plt.scatter(center,hist)\n",
    "plt.errorbar(center,hist,yerr=np.sqrt(hist),label=\"data\")\n",
    "plt.plot(center, exp_fit_mod(center, *m.values), label=\"fit\")\n",
    "\n",
    "# display legend with some fit info\n",
    "fit_info = [\n",
    "    f\"$\\\\chi^2$ / $n_\\\\mathrm{{dof}}$ = {m.fval:.1f} / {len(center) - m.nfit}\",\n",
    "]\n",
    "\n",
    "for p, v, e in zip(m.parameters, m.values, m.errors):\n",
    "    if p=='b':\n",
    "        v=v*1e6\n",
    "        e=e*1e6\n",
    "        tau_fit=v\n",
    "    fit_info.append(f\"{p} = ${v:.3f} \\\\pm {e:.3f}$\")\n",
    "    \n",
    "\n",
    "plt.legend(title=\"\\n\".join(fit_info))\n",
    "\n",
    "plt.savefig(\"muon_lifetime_shifted.png\")"
   ]
  },
  {
   "cell_type": "code",
   "execution_count": 23,
   "id": "ec9e90e2-5d96-42f3-81d8-aac4a8cf0e0b",
   "metadata": {},
   "outputs": [
    {
     "name": "stdout",
     "output_type": "stream",
     "text": [
      "1.1195746076029174\n"
     ]
    }
   ],
   "source": [
    "#number events per bin per lifetime? c*(#bins)/lifetime and compare to 'a' from bkgd fit\n",
    "for p, v, e in zip(m.parameters, m.values, m.errors):\n",
    "    if p=='c':\n",
    "        apx = v\n",
    "\n",
    "bkgd_apx = v*100/tau_fit\n",
    "print(bkgd_apx)"
   ]
  },
  {
   "cell_type": "code",
   "execution_count": null,
   "id": "e25bb327-07f5-468e-a1cb-34eedb0f7870",
   "metadata": {},
   "outputs": [],
   "source": []
  },
  {
   "cell_type": "code",
   "execution_count": 19,
   "id": "cef66b98-bfba-4e80-ab8e-8213e2720af9",
   "metadata": {},
   "outputs": [],
   "source": [
    "# hist2 = np.log(hist)\n",
    "# print(hist2)\n",
    "# mask2 = hist2!=0\n",
    "# hist2 = hist2[mask2]\n",
    "# center = center[mask2]\n",
    "\n",
    "def lin_fit(x,a,b):\n",
    "    y=a-x/b\n",
    "    return y\n",
    "\n",
    "# least_squares = LeastSquares(center, hist2, np.sqrt(hist2), lin_fit)\n",
    "# m = Minuit(least_squares, a=4, b=2.3e-6)  # starting values for a,b,c\n",
    "# m.migrad()  # finds minimum of least_squares function\n",
    "# m.hesse()   # accurately computes uncertainties\n",
    "# display(m)\n",
    "\n",
    "# plt.scatter(center,hist2)\n",
    "# plt.errorbar(center,hist2,yerr=np.sqrt(hist2),label=\"data\")\n",
    "# plt.plot(center, lin_fit(center, *m.values), label=\"fit\")\n",
    "\n",
    "# # display legend with some fit info\n",
    "# fit_info = [\n",
    "#     f\"$\\\\chi^2$ / $n_\\\\mathrm{{dof}}$ = {m.fval:.1f} / {len(center) - m.nfit}\",\n",
    "# ]\n",
    "\n",
    "# for p, v, e in zip(m.parameters, m.values, m.errors):\n",
    "#     if p=='b':\n",
    "#         v=v*1e6\n",
    "#         e=e*1e6\n",
    "#     fit_info.append(f\"{p} = ${v:.3f} \\\\pm {e:.3f}$\")\n",
    "    \n",
    "\n",
    "# plt.legend(title=\"\\n\".join(fit_info))"
   ]
  },
  {
   "cell_type": "code",
   "execution_count": null,
   "id": "5bc4193d-f44f-4a94-8bab-aca028402ff8",
   "metadata": {},
   "outputs": [],
   "source": []
  },
  {
   "cell_type": "code",
   "execution_count": 20,
   "id": "020d587e-a0fb-498c-861d-950900c99ecd",
   "metadata": {},
   "outputs": [
    {
     "name": "stdout",
     "output_type": "stream",
     "text": [
      "3.2262453371647515e-06\n"
     ]
    }
   ],
   "source": [
    "total_t2 = 0\n",
    "tau_list2 = []\n",
    "\n",
    "\n",
    "for x in range(10):\n",
    "    df_x = pandas.read_csv(f'~/Desktop/Python_files/background_data/C1bkgd0000{x}.csv')\n",
    "    amp_x = np.array(df_x.LECROYWS3034z.values[4:], dtype=np.float64)\n",
    "    time_x = np.array(df_x.LECROYWS3034z.axes[0][4:], dtype=np.float64)\n",
    "    index_x, _ = find_peaks(amp_x, height=(-.6,0))\n",
    "    \n",
    "    if len(index_x) == 2:\n",
    "        tau_x = time_x[index_x[1]] - time_x[index_x[0]]\n",
    "        total_t2 += tau_x\n",
    "        tau_list2.append(tau_x)\n",
    "\n",
    "for x in range(10,100):\n",
    "    df_x = pandas.read_csv(f'~/Desktop/Python_files/background_data/C1bkgd000{x}.csv')\n",
    "    amp_x = np.array(df_x.LECROYWS3034z.values[4:], dtype=np.float64)\n",
    "    time_x = np.array(df_x.LECROYWS3034z.axes[0][4:], dtype=np.float64)\n",
    "    index_x, _ = find_peaks(amp_x, height=(-.6,0))\n",
    "    \n",
    "    if len(index_x) == 2:\n",
    "        tau_x = time_x[index_x[1]] - time_x[index_x[0]]\n",
    "        total_t2 += tau_x\n",
    "        tau_list2.append(tau_x)\n",
    "\n",
    "for x in range(100,522):\n",
    "    df_x = pandas.read_csv(f'~/Desktop/Python_files/background_data/C1bkgd00{x}.csv')\n",
    "    amp_x = np.array(df_x.LECROYWS3034z.values[4:], dtype=np.float64)\n",
    "    time_x = np.array(df_x.LECROYWS3034z.axes[0][4:], dtype=np.float64)\n",
    "    index_x, _ = find_peaks(amp_x, height=(-.6,0))\n",
    "    \n",
    "    if len(index_x) == 2:\n",
    "        tau_x = time_x[index_x[1]] - time_x[index_x[0]]\n",
    "        total_t2 += tau_x\n",
    "        tau_list2.append(tau_x)\n",
    "    \n",
    "\n",
    "tau_bkgd = (total_t2/(522))\n",
    "\n",
    "print(tau_bkgd)"
   ]
  },
  {
   "cell_type": "code",
   "execution_count": 21,
   "id": "d9cec0bf-9b2b-42ca-9d16-d0d01e048382",
   "metadata": {},
   "outputs": [
    {
     "data": {
      "text/html": [
       "<table>\n",
       "    <tr>\n",
       "        <th colspan=\"5\" style=\"text-align:center\" title=\"Minimizer\"> Migrad </th>\n",
       "    </tr>\n",
       "    <tr>\n",
       "        <td colspan=\"2\" style=\"text-align:left\" title=\"Minimum value of function\"> FCN = 16.28 (chi2/ndof = 0.6) </td>\n",
       "        <td colspan=\"3\" style=\"text-align:center\" title=\"Total number of function and (optional) gradient evaluations\"> Nfcn = 381 </td>\n",
       "    </tr>\n",
       "    <tr>\n",
       "        <td colspan=\"2\" style=\"text-align:left\" title=\"Estimated distance to minimum and goal\"> EDM = 0.000117 (Goal: 0.0002) </td>\n",
       "        <td colspan=\"3\" style=\"text-align:center\" title=\"Total run time of algorithms\">  </td>\n",
       "    </tr>\n",
       "    <tr>\n",
       "        <td colspan=\"2\" style=\"text-align:center;background-color:#92CCA6;color:black\"> Valid Minimum </td>\n",
       "        <td colspan=\"3\" style=\"text-align:center;background-color:#92CCA6;color:black\"> No Parameters at limit </td>\n",
       "    </tr>\n",
       "    <tr>\n",
       "        <td colspan=\"2\" style=\"text-align:center;background-color:#92CCA6;color:black\"> Below EDM threshold (goal x 10) </td>\n",
       "        <td colspan=\"3\" style=\"text-align:center;background-color:#92CCA6;color:black\"> Below call limit </td>\n",
       "    </tr>\n",
       "    <tr>\n",
       "        <td style=\"text-align:center;background-color:#92CCA6;color:black\"> Covariance </td>\n",
       "        <td style=\"text-align:center;background-color:#92CCA6;color:black\"> Hesse ok </td>\n",
       "        <td style=\"text-align:center;background-color:#92CCA6;color:black\" title=\"Is covariance matrix accurate?\"> Accurate </td>\n",
       "        <td style=\"text-align:center;background-color:#92CCA6;color:black\" title=\"Is covariance matrix positive definite?\"> Pos. def. </td>\n",
       "        <td style=\"text-align:center;background-color:#92CCA6;color:black\" title=\"Was positive definiteness enforced by Minuit?\"> Not forced </td>\n",
       "    </tr>\n",
       "</table><table>\n",
       "    <tr>\n",
       "        <td></td>\n",
       "        <th title=\"Variable name\"> Name </th>\n",
       "        <th title=\"Value of parameter\"> Value </th>\n",
       "        <th title=\"Hesse error\"> Hesse Error </th>\n",
       "        <th title=\"Minos lower error\"> Minos Error- </th>\n",
       "        <th title=\"Minos upper error\"> Minos Error+ </th>\n",
       "        <th title=\"Lower limit of the parameter\"> Limit- </th>\n",
       "        <th title=\"Upper limit of the parameter\"> Limit+ </th>\n",
       "        <th title=\"Is the parameter fixed in the fit\"> Fixed </th>\n",
       "    </tr>\n",
       "    <tr>\n",
       "        <th> 0 </th>\n",
       "        <td> a </td>\n",
       "        <td> 1.78 </td>\n",
       "        <td> 0.26 </td>\n",
       "        <td>  </td>\n",
       "        <td>  </td>\n",
       "        <td>  </td>\n",
       "        <td>  </td>\n",
       "        <td>  </td>\n",
       "    </tr>\n",
       "    <tr>\n",
       "        <th> 1 </th>\n",
       "        <td> b </td>\n",
       "        <td> 0.0 </td>\n",
       "        <td> 1.7 </td>\n",
       "        <td>  </td>\n",
       "        <td>  </td>\n",
       "        <td>  </td>\n",
       "        <td>  </td>\n",
       "        <td>  </td>\n",
       "    </tr>\n",
       "</table><table>\n",
       "    <tr>\n",
       "        <td></td>\n",
       "        <th> a </th>\n",
       "        <th> b </th>\n",
       "    </tr>\n",
       "    <tr>\n",
       "        <th> a </th>\n",
       "        <td> 0.0655 </td>\n",
       "        <td style=\"background-color:rgb(227,227,250);color:black\"> -0.0764 <strong>(-0.178)</strong> </td>\n",
       "    </tr>\n",
       "    <tr>\n",
       "        <th> b </th>\n",
       "        <td style=\"background-color:rgb(227,227,250);color:black\"> -0.0764 <strong>(-0.178)</strong> </td>\n",
       "        <td> 2.81 </td>\n",
       "    </tr>\n",
       "</table>"
      ],
      "text/plain": [
       "┌─────────────────────────────────────────────────────────────────────────┐\n",
       "│                                Migrad                                   │\n",
       "├──────────────────────────────────┬──────────────────────────────────────┤\n",
       "│ FCN = 16.28 (chi2/ndof = 0.6)    │              Nfcn = 381              │\n",
       "│ EDM = 0.000117 (Goal: 0.0002)    │                                      │\n",
       "├──────────────────────────────────┼──────────────────────────────────────┤\n",
       "│          Valid Minimum           │        No Parameters at limit        │\n",
       "├──────────────────────────────────┼──────────────────────────────────────┤\n",
       "│ Below EDM threshold (goal x 10)  │           Below call limit           │\n",
       "├───────────────┬──────────────────┼───────────┬─────────────┬────────────┤\n",
       "│  Covariance   │     Hesse ok     │ Accurate  │  Pos. def.  │ Not forced │\n",
       "└───────────────┴──────────────────┴───────────┴─────────────┴────────────┘\n",
       "┌───┬──────┬───────────┬───────────┬────────────┬────────────┬─────────┬─────────┬───────┐\n",
       "│   │ Name │   Value   │ Hesse Err │ Minos Err- │ Minos Err+ │ Limit-  │ Limit+  │ Fixed │\n",
       "├───┼──────┼───────────┼───────────┼────────────┼────────────┼─────────┼─────────┼───────┤\n",
       "│ 0 │ a    │   1.78    │   0.26    │            │            │         │         │       │\n",
       "│ 1 │ b    │    0.0    │    1.7    │            │            │         │         │       │\n",
       "└───┴──────┴───────────┴───────────┴────────────┴────────────┴─────────┴─────────┴───────┘\n",
       "┌───┬─────────────────┐\n",
       "│   │       a       b │\n",
       "├───┼─────────────────┤\n",
       "│ a │  0.0655 -0.0764 │\n",
       "│ b │ -0.0764    2.81 │\n",
       "└───┴─────────────────┘"
      ]
     },
     "metadata": {},
     "output_type": "display_data"
    },
    {
     "data": {
      "image/png": "[encoded data removed]",
      "text/plain": [
       "<Figure size 432x288 with 1 Axes>"
      ]
     },
     "metadata": {
      "needs_background": "light"
     },
     "output_type": "display_data"
    }
   ],
   "source": [
    "hist_b, bins_b = np.histogram(tau_list2, bins=100)\n",
    "center_b = (bins_b[:-1] + bins_b[1:]) / 2\n",
    "# print(center)\n",
    "center_b = center_b[2:]\n",
    "hist_b = hist_b[2:]\n",
    "mask_b = hist_b!=0\n",
    "hist_b = hist_b[mask_b]\n",
    "center_b = center_b[mask_b]\n",
    "\n",
    "fig_b = plt.figure()\n",
    "ax_b = fig.subplots()\n",
    "\n",
    "least_squares = LeastSquares(center_b, hist_b, np.sqrt(hist_b), lin_fit)\n",
    "m = Minuit(least_squares, a=2.5, b=2.3e-6)  # starting values for a,b\n",
    "m.migrad()  # finds minimum of least_squares function\n",
    "m.hesse()   # accurately computes uncertainties\n",
    "display(m)\n",
    "\n",
    "\n",
    "# ax.hist(tau_list,bins=50)\n",
    "plt.scatter(center_b,hist_b)\n",
    "plt.plot(center_b, lin_fit(center_b, *m.values), label=\"background fit\")\n",
    "plt.errorbar(center_b,hist_b,yerr=np.sqrt(hist_b),label=\"background\")\n",
    "\n",
    "# display legend with some fit info\n",
    "fit_info = [\n",
    "    f\"$\\\\chi^2$ / $n_\\\\mathrm{{dof}}$ = {m.fval:.1f} / {len(center) - m.nfit}\",\n",
    "]\n",
    "\n",
    "for p, v, e in zip(m.parameters, m.values, m.errors):\n",
    "    fit_info.append(f\"{p} = ${v:.3f} \\\\pm {e:.3f}$\")\n",
    "    \n",
    "    if p=='a':\n",
    "        bk_c=v\n",
    "\n",
    "plt.legend(title=\"\\n\".join(fit_info))\n",
    "\n",
    "\n",
    "plt.savefig(\"muon_background.png\")\n",
    "plt.show()"
   ]
  },
  {
   "cell_type": "code",
   "execution_count": 22,
   "id": "cd977ff9-5b5a-46cd-84b5-5adcc45532a2",
   "metadata": {},
   "outputs": [
    {
     "name": "stdout",
     "output_type": "stream",
     "text": [
      "Background approximation from exponential fit: 1.6679176048703193e-09\n",
      "Actual background from linear fit: 0.0011015027838778679\n",
      "Units: events per microsec per 10us interval\n",
      "\n",
      "Event counts per sec: 0.1875573346676674\n",
      "Background events per sec: 0.017307181733705032\n"
     ]
    }
   ],
   "source": [
    "bkgd = bk_c*100/(tau_fit)\n",
    "\n",
    "print(\"Background approximation from exponential fit: \" + str(bkgd_apx/59955))\n",
    "print(\"Actual background from linear fit: \" + str(bkgd/60264))\n",
    "print(\"Units: events per microsec per 10us interval\\n\")\n",
    "\n",
    "print(\"Event counts per sec: \" + str(11245/59955))\n",
    "print(\"Background events per sec: \" + str(1043/60264))\n"
   ]
  },
  {
   "cell_type": "code",
   "execution_count": null,
   "id": "1aa72145-a61f-4d1e-9b27-ee72d0d73d15",
   "metadata": {},
   "outputs": [],
   "source": []
  },
  {
   "cell_type": "code",
   "execution_count": 37,
   "id": "982801dd-a052-4f9e-9db9-9115011f9b69",
   "metadata": {},
   "outputs": [
    {
     "name": "stdout",
     "output_type": "stream",
     "text": [
      "background events per bin: 10.168990392273994\n"
     ]
    },
    {
     "data": {
      "text/html": [
       "<table>\n",
       "    <tr>\n",
       "        <th colspan=\"5\" style=\"text-align:center\" title=\"Minimizer\"> Migrad </th>\n",
       "    </tr>\n",
       "    <tr>\n",
       "        <td colspan=\"2\" style=\"text-align:left\" title=\"Minimum value of function\"> FCN = 67.81 (chi2/ndof = 0.8) </td>\n",
       "        <td colspan=\"3\" style=\"text-align:center\" title=\"Total number of function and (optional) gradient evaluations\"> Nfcn = 83 </td>\n",
       "    </tr>\n",
       "    <tr>\n",
       "        <td colspan=\"2\" style=\"text-align:left\" title=\"Estimated distance to minimum and goal\"> EDM = 6.48e-07 (Goal: 0.0002) </td>\n",
       "        <td colspan=\"3\" style=\"text-align:center\" title=\"Total run time of algorithms\">  </td>\n",
       "    </tr>\n",
       "    <tr>\n",
       "        <td colspan=\"2\" style=\"text-align:center;background-color:#92CCA6;color:black\"> Valid Minimum </td>\n",
       "        <td colspan=\"3\" style=\"text-align:center;background-color:#92CCA6;color:black\"> No Parameters at limit </td>\n",
       "    </tr>\n",
       "    <tr>\n",
       "        <td colspan=\"2\" style=\"text-align:center;background-color:#92CCA6;color:black\"> Below EDM threshold (goal x 10) </td>\n",
       "        <td colspan=\"3\" style=\"text-align:center;background-color:#92CCA6;color:black\"> Below call limit </td>\n",
       "    </tr>\n",
       "    <tr>\n",
       "        <td style=\"text-align:center;background-color:#92CCA6;color:black\"> Covariance </td>\n",
       "        <td style=\"text-align:center;background-color:#92CCA6;color:black\"> Hesse ok </td>\n",
       "        <td style=\"text-align:center;background-color:#92CCA6;color:black\" title=\"Is covariance matrix accurate?\"> Accurate </td>\n",
       "        <td style=\"text-align:center;background-color:#92CCA6;color:black\" title=\"Is covariance matrix positive definite?\"> Pos. def. </td>\n",
       "        <td style=\"text-align:center;background-color:#92CCA6;color:black\" title=\"Was positive definiteness enforced by Minuit?\"> Not forced </td>\n",
       "    </tr>\n",
       "</table><table>\n",
       "    <tr>\n",
       "        <td></td>\n",
       "        <th title=\"Variable name\"> Name </th>\n",
       "        <th title=\"Value of parameter\"> Value </th>\n",
       "        <th title=\"Hesse error\"> Hesse Error </th>\n",
       "        <th title=\"Minos lower error\"> Minos Error- </th>\n",
       "        <th title=\"Minos upper error\"> Minos Error+ </th>\n",
       "        <th title=\"Lower limit of the parameter\"> Limit- </th>\n",
       "        <th title=\"Upper limit of the parameter\"> Limit+ </th>\n",
       "        <th title=\"Is the parameter fixed in the fit\"> Fixed </th>\n",
       "    </tr>\n",
       "    <tr>\n",
       "        <th> 0 </th>\n",
       "        <td> a </td>\n",
       "        <td> 44.8 </td>\n",
       "        <td> 2.7 </td>\n",
       "        <td>  </td>\n",
       "        <td>  </td>\n",
       "        <td>  </td>\n",
       "        <td>  </td>\n",
       "        <td>  </td>\n",
       "    </tr>\n",
       "    <tr>\n",
       "        <th> 1 </th>\n",
       "        <td> b </td>\n",
       "        <td> 1.98e-6 </td>\n",
       "        <td> 0.14e-6 </td>\n",
       "        <td>  </td>\n",
       "        <td>  </td>\n",
       "        <td>  </td>\n",
       "        <td>  </td>\n",
       "        <td>  </td>\n",
       "    </tr>\n",
       "    <tr>\n",
       "        <th> 2 </th>\n",
       "        <td> c </td>\n",
       "        <td> 0.9 </td>\n",
       "        <td> 0.4 </td>\n",
       "        <td>  </td>\n",
       "        <td>  </td>\n",
       "        <td>  </td>\n",
       "        <td>  </td>\n",
       "        <td>  </td>\n",
       "    </tr>\n",
       "</table><table>\n",
       "    <tr>\n",
       "        <td></td>\n",
       "        <th> a </th>\n",
       "        <th> b </th>\n",
       "        <th> c </th>\n",
       "    </tr>\n",
       "    <tr>\n",
       "        <th> a </th>\n",
       "        <td> 7.38 </td>\n",
       "        <td style=\"background-color:rgb(158,158,250);color:black\"> -2.78e-07 <strong>(-0.705)</strong> </td>\n",
       "        <td style=\"background-color:rgb(250,201,201);color:black\"> 0.336 <strong>(0.326)</strong> </td>\n",
       "    </tr>\n",
       "    <tr>\n",
       "        <th> b </th>\n",
       "        <td style=\"background-color:rgb(158,158,250);color:black\"> -2.78e-07 <strong>(-0.705)</strong> </td>\n",
       "        <td> 2.11e-14 </td>\n",
       "        <td style=\"background-color:rgb(149,149,250);color:black\"> -4.3e-08 <strong>(-0.781)</strong> </td>\n",
       "    </tr>\n",
       "    <tr>\n",
       "        <th> c </th>\n",
       "        <td style=\"background-color:rgb(250,201,201);color:black\"> 0.336 <strong>(0.326)</strong> </td>\n",
       "        <td style=\"background-color:rgb(149,149,250);color:black\"> -4.3e-08 <strong>(-0.781)</strong> </td>\n",
       "        <td> 0.144 </td>\n",
       "    </tr>\n",
       "</table>"
      ],
      "text/plain": [
       "┌─────────────────────────────────────────────────────────────────────────┐\n",
       "│                                Migrad                                   │\n",
       "├──────────────────────────────────┬──────────────────────────────────────┤\n",
       "│ FCN = 67.81 (chi2/ndof = 0.8)    │              Nfcn = 83               │\n",
       "│ EDM = 6.48e-07 (Goal: 0.0002)    │                                      │\n",
       "├──────────────────────────────────┼──────────────────────────────────────┤\n",
       "│          Valid Minimum           │        No Parameters at limit        │\n",
       "├──────────────────────────────────┼──────────────────────────────────────┤\n",
       "│ Below EDM threshold (goal x 10)  │           Below call limit           │\n",
       "├───────────────┬──────────────────┼───────────┬─────────────┬────────────┤\n",
       "│  Covariance   │     Hesse ok     │ Accurate  │  Pos. def.  │ Not forced │\n",
       "└───────────────┴──────────────────┴───────────┴─────────────┴────────────┘\n",
       "┌───┬──────┬───────────┬───────────┬────────────┬────────────┬─────────┬─────────┬───────┐\n",
       "│   │ Name │   Value   │ Hesse Err │ Minos Err- │ Minos Err+ │ Limit-  │ Limit+  │ Fixed │\n",
       "├───┼──────┼───────────┼───────────┼────────────┼────────────┼─────────┼─────────┼───────┤\n",
       "│ 0 │ a    │   44.8    │    2.7    │            │            │         │         │       │\n",
       "│ 1 │ b    │  1.98e-6  │  0.14e-6  │            │            │         │         │       │\n",
       "│ 2 │ c    │    0.9    │    0.4    │            │            │         │         │       │\n",
       "└───┴──────┴───────────┴───────────┴────────────┴────────────┴─────────┴─────────┴───────┘\n",
       "┌───┬───────────────────────────────┐\n",
       "│   │         a         b         c │\n",
       "├───┼───────────────────────────────┤\n",
       "│ a │      7.38 -2.78e-07     0.336 │\n",
       "│ b │ -2.78e-07  2.11e-14  -4.3e-08 │\n",
       "│ c │     0.336  -4.3e-08     0.144 │\n",
       "└───┴───────────────────────────────┘"
      ]
     },
     "metadata": {},
     "output_type": "display_data"
    },
    {
     "data": {
      "image/png": "[encoded data removed]",
      "text/plain": [
       "<Figure size 432x288 with 1 Axes>"
      ]
     },
     "metadata": {
      "needs_background": "light"
     },
     "output_type": "display_data"
    }
   ],
   "source": [
    "# calculating number of background events; this assumes equal efficiency of trigger\n",
    "\n",
    "est_bkdg = (1043/(60264*10))*((10-.2)*59955) #estimated number of background events in the data\n",
    "bkgd_events_per_bin = est_bkdg / 100\n",
    "print(\"background events per bin: \" + str(bkgd_events_per_bin))\n",
    "\n",
    "\n",
    "least_squares = LeastSquares(center, hist, np.sqrt(hist), exp_fit)\n",
    "m = Minuit(least_squares, a=40, b=2.3e-6,c=0)  # starting values for a,b,c\n",
    "m.migrad()  # finds minimum of least_squares function\n",
    "m.hesse()   # accurately computes uncertainties\n",
    "display(m)\n",
    "\n",
    "\n",
    "plt.scatter(center,hist)\n",
    "plt.errorbar(center,hist,yerr=np.sqrt(hist),label=\"data\")\n",
    "plt.plot(center, exp_fit(center, *m.values), label=\"fit\")\n",
    "\n",
    "# display legend with some fit info\n",
    "fit_info = [\n",
    "    f\"$\\\\chi^2$ / $n_\\\\mathrm{{dof}}$ = {m.fval:.1f} / {len(center) - m.nfit}\",\n",
    "]\n",
    "\n",
    "for p, v, e in zip(m.parameters, m.values, m.errors):\n",
    "    if p=='b':\n",
    "        v=v*1e6\n",
    "        e=e*1e6\n",
    "        tau_fit=v\n",
    "    fit_info.append(f\"{p} = ${v:.3f} \\\\pm {e:.3f}$\")\n",
    "    \n",
    "\n",
    "plt.legend(title=\"\\n\".join(fit_info))\n",
    "\n",
    "plt.axhline(bkgd_events_per_bin)\n",
    "\n",
    "plt.savefig(\"muon_lifetime_2.png\")"
   ]
  },
  {
   "cell_type": "code",
   "execution_count": 52,
   "id": "3349a63a-2d56-4682-9d0d-dd0ccb907684",
   "metadata": {},
   "outputs": [
    {
     "name": "stdout",
     "output_type": "stream",
     "text": [
      "1.027257985980187\n"
     ]
    }
   ],
   "source": [
    "#calculating background differently:\n",
    "\n",
    "f1 = (11245/59955) #signal _+ bkgnd\n",
    "f2 = (1043/60264) #bkgnd\n",
    "\n",
    "num_b_events_2 = ((975+36)*(f2)*((10-.2)/10)/(f1))/len(hist)\n",
    "print(num_b_events_2)"
   ]
  },
  {
   "cell_type": "code",
   "execution_count": 51,
   "id": "a59acb8b-0f19-4faf-a530-0e1f2f0d8501",
   "metadata": {},
   "outputs": [
    {
     "data": {
      "image/png": "[encoded data removed]",
      "text/plain": [
       "<Figure size 432x288 with 1 Axes>"
      ]
     },
     "metadata": {
      "needs_background": "light"
     },
     "output_type": "display_data"
    }
   ],
   "source": [
    "plt.scatter(center,hist)\n",
    "plt.errorbar(center,hist,yerr=np.sqrt(hist),label=\"data\")\n",
    "plt.plot(center, exp_fit(center, *m.values), label=\"fit\")\n",
    "\n",
    "# display legend with some fit info\n",
    "fit_info = [\n",
    "    f\"$\\\\chi^2$ / $n_\\\\mathrm{{dof}}$ = {m.fval:.1f} / {len(center) - m.nfit}\",\n",
    "]\n",
    "\n",
    "for p, v, e in zip(m.parameters, m.values, m.errors):\n",
    "    if p=='b':\n",
    "        v=v*1e6\n",
    "        e=e*1e6\n",
    "        tau_fit=v\n",
    "    fit_info.append(f\"{p} = ${v:.3f} \\\\pm {e:.3f}$\")\n",
    "    \n",
    "\n",
    "plt.legend(title=\"\\n\".join(fit_info))\n",
    "\n",
    "plt.axhline(num_b_events_2)\n",
    "\n",
    "plt.savefig(\"muon_lifetime_3.png\")"
   ]
  },
  {
   "cell_type": "code",
   "execution_count": null,
   "id": "8733f175-d8e4-43fb-a536-20e542f105a0",
   "metadata": {},
   "outputs": [],
   "source": []
  }
 ],
 "metadata": {
  "kernelspec": {
   "display_name": "Python 3 (ipykernel)",
   "language": "python",
   "name": "python3"
  },
  "language_info": {
   "codemirror_mode": {
    "name": "ipython",
    "version": 3
   },
   "file_extension": ".py",
   "mimetype": "text/x-python",
   "name": "python",
   "nbconvert_exporter": "python",
   "pygments_lexer": "ipython3",
   "version": "3.9.12"
  }
 },
 "nbformat": 4,
 "nbformat_minor": 5
}
